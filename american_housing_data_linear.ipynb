{
  "nbformat": 4,
  "nbformat_minor": 0,
  "metadata": {
    "colab": {
      "provenance": [],
      "authorship_tag": "ABX9TyOVVunVR1qHue5MLySQq2Ir",
      "include_colab_link": true
    },
    "kernelspec": {
      "name": "python3",
      "display_name": "Python 3"
    },
    "language_info": {
      "name": "python"
    }
  },
  "cells": [
    {
      "cell_type": "markdown",
      "metadata": {
        "id": "view-in-github",
        "colab_type": "text"
      },
      "source": [
        "<a href=\"https://colab.research.google.com/github/nayanakrishnan2050/ml_colab/blob/main/american_housing_data_linear.ipynb\" target=\"_parent\"><img src=\"https://colab.research.google.com/assets/colab-badge.svg\" alt=\"Open In Colab\"/></a>"
      ]
    },
    {
      "cell_type": "code",
      "execution_count": null,
      "metadata": {
        "id": "dslu62s2Hu1p"
      },
      "outputs": [],
      "source": [
        "import pandas as pd\n",
        "import numpy as np\n",
        "import matplotlib.pyplot as plt\n",
        "import seaborn as sns\n",
        "from sklearn.model_selection import train_test_split\n",
        "from sklearn.linear_model import LinearRegression\n",
        "from sklearn import metrics\n"
      ]
    },
    {
      "cell_type": "code",
      "source": [
        "from google. colab import files\n",
        "#files . upload()"
      ],
      "metadata": {
        "id": "11AT02V9DopQ"
      },
      "execution_count": null,
      "outputs": []
    },
    {
      "cell_type": "code",
      "source": [
        "housing_data=pd.read_csv('/content/American_Housing_Data_20231209.csv.zip')\n",
        "housing_data"
      ],
      "metadata": {
        "colab": {
          "base_uri": "https://localhost:8080/",
          "height": 808
        },
        "id": "eRVHhzz6I0XO",
        "outputId": "3e7cacef-1454-46d6-8258-8b54c8831d4f"
      },
      "execution_count": null,
      "outputs": [
        {
          "output_type": "execute_result",
          "data": {
            "text/plain": [
              "       Zip Code      Price  Beds  Baths  Living Space                 Address  \\\n",
              "0         10013  3999000.0     2      3          1967       74 GRAND ST APT 3   \n",
              "1         10013  3999000.0     2      3          1967       74 GRAND ST APT 3   \n",
              "2         10014  1650000.0     1      1           718   140 CHARLES ST APT 4D   \n",
              "3         10014   760000.0     3      2          1538             38 JONES ST   \n",
              "4         10014  1100000.0     1      1           600    81 BEDFORD ST APT 3F   \n",
              "...         ...        ...   ...    ...           ...                     ...   \n",
              "39976     98199  2495000.0     4      4          3380         2626 27TH AVE W   \n",
              "39977     98199  2295000.0     4      4          2878         3215 32ND AVE W   \n",
              "39978     98199   950000.0     3      2          1380         3257 22ND AVE W   \n",
              "39979     98199   425000.0     2      1           856  3711 26TH PL W APT 102   \n",
              "39980     98199  1150000.0     3      3          2840         2911 25TH AVE W   \n",
              "\n",
              "           City       State  Zip Code Population  Zip Code Density    County  \\\n",
              "0      New York    New York                29563           20967.9  New York   \n",
              "1      New York    New York                29563           20967.9  New York   \n",
              "2      New York    New York                29815           23740.9  New York   \n",
              "3      New York    New York                29815           23740.9  New York   \n",
              "4      New York    New York                29815           23740.9  New York   \n",
              "...         ...         ...                  ...               ...       ...   \n",
              "39976   Seattle  Washington                22890            2086.8      King   \n",
              "39977   Seattle  Washington                22890            2086.8      King   \n",
              "39978   Seattle  Washington                22890            2086.8      King   \n",
              "39979   Seattle  Washington                22890            2086.8      King   \n",
              "39980   Seattle  Washington                22890            2086.8      King   \n",
              "\n",
              "       Median Household Income  Latitude  Longitude  \n",
              "0                     370046.0  40.72001  -74.00472  \n",
              "1                     370046.0  40.72001  -74.00472  \n",
              "2                     249880.0  40.73407  -74.00601  \n",
              "3                     249880.0  40.73407  -74.00601  \n",
              "4                     249880.0  40.73407  -74.00601  \n",
              "...                        ...       ...        ...  \n",
              "39976                 205611.0  47.65139 -122.40223  \n",
              "39977                 205611.0  47.65139 -122.40223  \n",
              "39978                 205611.0  47.65139 -122.40223  \n",
              "39979                 205611.0  47.65139 -122.40223  \n",
              "39980                 205611.0  47.65139 -122.40223  \n",
              "\n",
              "[39981 rows x 14 columns]"
            ],
            "text/html": [
              "\n",
              "  <div id=\"df-58cc4598-a21e-4584-a68a-429378002ef9\" class=\"colab-df-container\">\n",
              "    <div>\n",
              "<style scoped>\n",
              "    .dataframe tbody tr th:only-of-type {\n",
              "        vertical-align: middle;\n",
              "    }\n",
              "\n",
              "    .dataframe tbody tr th {\n",
              "        vertical-align: top;\n",
              "    }\n",
              "\n",
              "    .dataframe thead th {\n",
              "        text-align: right;\n",
              "    }\n",
              "</style>\n",
              "<table border=\"1\" class=\"dataframe\">\n",
              "  <thead>\n",
              "    <tr style=\"text-align: right;\">\n",
              "      <th></th>\n",
              "      <th>Zip Code</th>\n",
              "      <th>Price</th>\n",
              "      <th>Beds</th>\n",
              "      <th>Baths</th>\n",
              "      <th>Living Space</th>\n",
              "      <th>Address</th>\n",
              "      <th>City</th>\n",
              "      <th>State</th>\n",
              "      <th>Zip Code Population</th>\n",
              "      <th>Zip Code Density</th>\n",
              "      <th>County</th>\n",
              "      <th>Median Household Income</th>\n",
              "      <th>Latitude</th>\n",
              "      <th>Longitude</th>\n",
              "    </tr>\n",
              "  </thead>\n",
              "  <tbody>\n",
              "    <tr>\n",
              "      <th>0</th>\n",
              "      <td>10013</td>\n",
              "      <td>3999000.0</td>\n",
              "      <td>2</td>\n",
              "      <td>3</td>\n",
              "      <td>1967</td>\n",
              "      <td>74 GRAND ST APT 3</td>\n",
              "      <td>New York</td>\n",
              "      <td>New York</td>\n",
              "      <td>29563</td>\n",
              "      <td>20967.9</td>\n",
              "      <td>New York</td>\n",
              "      <td>370046.0</td>\n",
              "      <td>40.72001</td>\n",
              "      <td>-74.00472</td>\n",
              "    </tr>\n",
              "    <tr>\n",
              "      <th>1</th>\n",
              "      <td>10013</td>\n",
              "      <td>3999000.0</td>\n",
              "      <td>2</td>\n",
              "      <td>3</td>\n",
              "      <td>1967</td>\n",
              "      <td>74 GRAND ST APT 3</td>\n",
              "      <td>New York</td>\n",
              "      <td>New York</td>\n",
              "      <td>29563</td>\n",
              "      <td>20967.9</td>\n",
              "      <td>New York</td>\n",
              "      <td>370046.0</td>\n",
              "      <td>40.72001</td>\n",
              "      <td>-74.00472</td>\n",
              "    </tr>\n",
              "    <tr>\n",
              "      <th>2</th>\n",
              "      <td>10014</td>\n",
              "      <td>1650000.0</td>\n",
              "      <td>1</td>\n",
              "      <td>1</td>\n",
              "      <td>718</td>\n",
              "      <td>140 CHARLES ST APT 4D</td>\n",
              "      <td>New York</td>\n",
              "      <td>New York</td>\n",
              "      <td>29815</td>\n",
              "      <td>23740.9</td>\n",
              "      <td>New York</td>\n",
              "      <td>249880.0</td>\n",
              "      <td>40.73407</td>\n",
              "      <td>-74.00601</td>\n",
              "    </tr>\n",
              "    <tr>\n",
              "      <th>3</th>\n",
              "      <td>10014</td>\n",
              "      <td>760000.0</td>\n",
              "      <td>3</td>\n",
              "      <td>2</td>\n",
              "      <td>1538</td>\n",
              "      <td>38 JONES ST</td>\n",
              "      <td>New York</td>\n",
              "      <td>New York</td>\n",
              "      <td>29815</td>\n",
              "      <td>23740.9</td>\n",
              "      <td>New York</td>\n",
              "      <td>249880.0</td>\n",
              "      <td>40.73407</td>\n",
              "      <td>-74.00601</td>\n",
              "    </tr>\n",
              "    <tr>\n",
              "      <th>4</th>\n",
              "      <td>10014</td>\n",
              "      <td>1100000.0</td>\n",
              "      <td>1</td>\n",
              "      <td>1</td>\n",
              "      <td>600</td>\n",
              "      <td>81 BEDFORD ST APT 3F</td>\n",
              "      <td>New York</td>\n",
              "      <td>New York</td>\n",
              "      <td>29815</td>\n",
              "      <td>23740.9</td>\n",
              "      <td>New York</td>\n",
              "      <td>249880.0</td>\n",
              "      <td>40.73407</td>\n",
              "      <td>-74.00601</td>\n",
              "    </tr>\n",
              "    <tr>\n",
              "      <th>...</th>\n",
              "      <td>...</td>\n",
              "      <td>...</td>\n",
              "      <td>...</td>\n",
              "      <td>...</td>\n",
              "      <td>...</td>\n",
              "      <td>...</td>\n",
              "      <td>...</td>\n",
              "      <td>...</td>\n",
              "      <td>...</td>\n",
              "      <td>...</td>\n",
              "      <td>...</td>\n",
              "      <td>...</td>\n",
              "      <td>...</td>\n",
              "      <td>...</td>\n",
              "    </tr>\n",
              "    <tr>\n",
              "      <th>39976</th>\n",
              "      <td>98199</td>\n",
              "      <td>2495000.0</td>\n",
              "      <td>4</td>\n",
              "      <td>4</td>\n",
              "      <td>3380</td>\n",
              "      <td>2626 27TH AVE W</td>\n",
              "      <td>Seattle</td>\n",
              "      <td>Washington</td>\n",
              "      <td>22890</td>\n",
              "      <td>2086.8</td>\n",
              "      <td>King</td>\n",
              "      <td>205611.0</td>\n",
              "      <td>47.65139</td>\n",
              "      <td>-122.40223</td>\n",
              "    </tr>\n",
              "    <tr>\n",
              "      <th>39977</th>\n",
              "      <td>98199</td>\n",
              "      <td>2295000.0</td>\n",
              "      <td>4</td>\n",
              "      <td>4</td>\n",
              "      <td>2878</td>\n",
              "      <td>3215 32ND AVE W</td>\n",
              "      <td>Seattle</td>\n",
              "      <td>Washington</td>\n",
              "      <td>22890</td>\n",
              "      <td>2086.8</td>\n",
              "      <td>King</td>\n",
              "      <td>205611.0</td>\n",
              "      <td>47.65139</td>\n",
              "      <td>-122.40223</td>\n",
              "    </tr>\n",
              "    <tr>\n",
              "      <th>39978</th>\n",
              "      <td>98199</td>\n",
              "      <td>950000.0</td>\n",
              "      <td>3</td>\n",
              "      <td>2</td>\n",
              "      <td>1380</td>\n",
              "      <td>3257 22ND AVE W</td>\n",
              "      <td>Seattle</td>\n",
              "      <td>Washington</td>\n",
              "      <td>22890</td>\n",
              "      <td>2086.8</td>\n",
              "      <td>King</td>\n",
              "      <td>205611.0</td>\n",
              "      <td>47.65139</td>\n",
              "      <td>-122.40223</td>\n",
              "    </tr>\n",
              "    <tr>\n",
              "      <th>39979</th>\n",
              "      <td>98199</td>\n",
              "      <td>425000.0</td>\n",
              "      <td>2</td>\n",
              "      <td>1</td>\n",
              "      <td>856</td>\n",
              "      <td>3711 26TH PL W APT 102</td>\n",
              "      <td>Seattle</td>\n",
              "      <td>Washington</td>\n",
              "      <td>22890</td>\n",
              "      <td>2086.8</td>\n",
              "      <td>King</td>\n",
              "      <td>205611.0</td>\n",
              "      <td>47.65139</td>\n",
              "      <td>-122.40223</td>\n",
              "    </tr>\n",
              "    <tr>\n",
              "      <th>39980</th>\n",
              "      <td>98199</td>\n",
              "      <td>1150000.0</td>\n",
              "      <td>3</td>\n",
              "      <td>3</td>\n",
              "      <td>2840</td>\n",
              "      <td>2911 25TH AVE W</td>\n",
              "      <td>Seattle</td>\n",
              "      <td>Washington</td>\n",
              "      <td>22890</td>\n",
              "      <td>2086.8</td>\n",
              "      <td>King</td>\n",
              "      <td>205611.0</td>\n",
              "      <td>47.65139</td>\n",
              "      <td>-122.40223</td>\n",
              "    </tr>\n",
              "  </tbody>\n",
              "</table>\n",
              "<p>39981 rows × 14 columns</p>\n",
              "</div>\n",
              "    <div class=\"colab-df-buttons\">\n",
              "\n",
              "  <div class=\"colab-df-container\">\n",
              "    <button class=\"colab-df-convert\" onclick=\"convertToInteractive('df-58cc4598-a21e-4584-a68a-429378002ef9')\"\n",
              "            title=\"Convert this dataframe to an interactive table.\"\n",
              "            style=\"display:none;\">\n",
              "\n",
              "  <svg xmlns=\"http://www.w3.org/2000/svg\" height=\"24px\" viewBox=\"0 -960 960 960\">\n",
              "    <path d=\"M120-120v-720h720v720H120Zm60-500h600v-160H180v160Zm220 220h160v-160H400v160Zm0 220h160v-160H400v160ZM180-400h160v-160H180v160Zm440 0h160v-160H620v160ZM180-180h160v-160H180v160Zm440 0h160v-160H620v160Z\"/>\n",
              "  </svg>\n",
              "    </button>\n",
              "\n",
              "  <style>\n",
              "    .colab-df-container {\n",
              "      display:flex;\n",
              "      gap: 12px;\n",
              "    }\n",
              "\n",
              "    .colab-df-convert {\n",
              "      background-color: #E8F0FE;\n",
              "      border: none;\n",
              "      border-radius: 50%;\n",
              "      cursor: pointer;\n",
              "      display: none;\n",
              "      fill: #1967D2;\n",
              "      height: 32px;\n",
              "      padding: 0 0 0 0;\n",
              "      width: 32px;\n",
              "    }\n",
              "\n",
              "    .colab-df-convert:hover {\n",
              "      background-color: #E2EBFA;\n",
              "      box-shadow: 0px 1px 2px rgba(60, 64, 67, 0.3), 0px 1px 3px 1px rgba(60, 64, 67, 0.15);\n",
              "      fill: #174EA6;\n",
              "    }\n",
              "\n",
              "    .colab-df-buttons div {\n",
              "      margin-bottom: 4px;\n",
              "    }\n",
              "\n",
              "    [theme=dark] .colab-df-convert {\n",
              "      background-color: #3B4455;\n",
              "      fill: #D2E3FC;\n",
              "    }\n",
              "\n",
              "    [theme=dark] .colab-df-convert:hover {\n",
              "      background-color: #434B5C;\n",
              "      box-shadow: 0px 1px 3px 1px rgba(0, 0, 0, 0.15);\n",
              "      filter: drop-shadow(0px 1px 2px rgba(0, 0, 0, 0.3));\n",
              "      fill: #FFFFFF;\n",
              "    }\n",
              "  </style>\n",
              "\n",
              "    <script>\n",
              "      const buttonEl =\n",
              "        document.querySelector('#df-58cc4598-a21e-4584-a68a-429378002ef9 button.colab-df-convert');\n",
              "      buttonEl.style.display =\n",
              "        google.colab.kernel.accessAllowed ? 'block' : 'none';\n",
              "\n",
              "      async function convertToInteractive(key) {\n",
              "        const element = document.querySelector('#df-58cc4598-a21e-4584-a68a-429378002ef9');\n",
              "        const dataTable =\n",
              "          await google.colab.kernel.invokeFunction('convertToInteractive',\n",
              "                                                    [key], {});\n",
              "        if (!dataTable) return;\n",
              "\n",
              "        const docLinkHtml = 'Like what you see? Visit the ' +\n",
              "          '<a target=\"_blank\" href=https://colab.research.google.com/notebooks/data_table.ipynb>data table notebook</a>'\n",
              "          + ' to learn more about interactive tables.';\n",
              "        element.innerHTML = '';\n",
              "        dataTable['output_type'] = 'display_data';\n",
              "        await google.colab.output.renderOutput(dataTable, element);\n",
              "        const docLink = document.createElement('div');\n",
              "        docLink.innerHTML = docLinkHtml;\n",
              "        element.appendChild(docLink);\n",
              "      }\n",
              "    </script>\n",
              "  </div>\n",
              "\n",
              "\n",
              "<div id=\"df-d57280a0-44b5-4c91-a3e7-1ede2daa2a13\">\n",
              "  <button class=\"colab-df-quickchart\" onclick=\"quickchart('df-d57280a0-44b5-4c91-a3e7-1ede2daa2a13')\"\n",
              "            title=\"Suggest charts\"\n",
              "            style=\"display:none;\">\n",
              "\n",
              "<svg xmlns=\"http://www.w3.org/2000/svg\" height=\"24px\"viewBox=\"0 0 24 24\"\n",
              "     width=\"24px\">\n",
              "    <g>\n",
              "        <path d=\"M19 3H5c-1.1 0-2 .9-2 2v14c0 1.1.9 2 2 2h14c1.1 0 2-.9 2-2V5c0-1.1-.9-2-2-2zM9 17H7v-7h2v7zm4 0h-2V7h2v10zm4 0h-2v-4h2v4z\"/>\n",
              "    </g>\n",
              "</svg>\n",
              "  </button>\n",
              "\n",
              "<style>\n",
              "  .colab-df-quickchart {\n",
              "      --bg-color: #E8F0FE;\n",
              "      --fill-color: #1967D2;\n",
              "      --hover-bg-color: #E2EBFA;\n",
              "      --hover-fill-color: #174EA6;\n",
              "      --disabled-fill-color: #AAA;\n",
              "      --disabled-bg-color: #DDD;\n",
              "  }\n",
              "\n",
              "  [theme=dark] .colab-df-quickchart {\n",
              "      --bg-color: #3B4455;\n",
              "      --fill-color: #D2E3FC;\n",
              "      --hover-bg-color: #434B5C;\n",
              "      --hover-fill-color: #FFFFFF;\n",
              "      --disabled-bg-color: #3B4455;\n",
              "      --disabled-fill-color: #666;\n",
              "  }\n",
              "\n",
              "  .colab-df-quickchart {\n",
              "    background-color: var(--bg-color);\n",
              "    border: none;\n",
              "    border-radius: 50%;\n",
              "    cursor: pointer;\n",
              "    display: none;\n",
              "    fill: var(--fill-color);\n",
              "    height: 32px;\n",
              "    padding: 0;\n",
              "    width: 32px;\n",
              "  }\n",
              "\n",
              "  .colab-df-quickchart:hover {\n",
              "    background-color: var(--hover-bg-color);\n",
              "    box-shadow: 0 1px 2px rgba(60, 64, 67, 0.3), 0 1px 3px 1px rgba(60, 64, 67, 0.15);\n",
              "    fill: var(--button-hover-fill-color);\n",
              "  }\n",
              "\n",
              "  .colab-df-quickchart-complete:disabled,\n",
              "  .colab-df-quickchart-complete:disabled:hover {\n",
              "    background-color: var(--disabled-bg-color);\n",
              "    fill: var(--disabled-fill-color);\n",
              "    box-shadow: none;\n",
              "  }\n",
              "\n",
              "  .colab-df-spinner {\n",
              "    border: 2px solid var(--fill-color);\n",
              "    border-color: transparent;\n",
              "    border-bottom-color: var(--fill-color);\n",
              "    animation:\n",
              "      spin 1s steps(1) infinite;\n",
              "  }\n",
              "\n",
              "  @keyframes spin {\n",
              "    0% {\n",
              "      border-color: transparent;\n",
              "      border-bottom-color: var(--fill-color);\n",
              "      border-left-color: var(--fill-color);\n",
              "    }\n",
              "    20% {\n",
              "      border-color: transparent;\n",
              "      border-left-color: var(--fill-color);\n",
              "      border-top-color: var(--fill-color);\n",
              "    }\n",
              "    30% {\n",
              "      border-color: transparent;\n",
              "      border-left-color: var(--fill-color);\n",
              "      border-top-color: var(--fill-color);\n",
              "      border-right-color: var(--fill-color);\n",
              "    }\n",
              "    40% {\n",
              "      border-color: transparent;\n",
              "      border-right-color: var(--fill-color);\n",
              "      border-top-color: var(--fill-color);\n",
              "    }\n",
              "    60% {\n",
              "      border-color: transparent;\n",
              "      border-right-color: var(--fill-color);\n",
              "    }\n",
              "    80% {\n",
              "      border-color: transparent;\n",
              "      border-right-color: var(--fill-color);\n",
              "      border-bottom-color: var(--fill-color);\n",
              "    }\n",
              "    90% {\n",
              "      border-color: transparent;\n",
              "      border-bottom-color: var(--fill-color);\n",
              "    }\n",
              "  }\n",
              "</style>\n",
              "\n",
              "  <script>\n",
              "    async function quickchart(key) {\n",
              "      const quickchartButtonEl =\n",
              "        document.querySelector('#' + key + ' button');\n",
              "      quickchartButtonEl.disabled = true;  // To prevent multiple clicks.\n",
              "      quickchartButtonEl.classList.add('colab-df-spinner');\n",
              "      try {\n",
              "        const charts = await google.colab.kernel.invokeFunction(\n",
              "            'suggestCharts', [key], {});\n",
              "      } catch (error) {\n",
              "        console.error('Error during call to suggestCharts:', error);\n",
              "      }\n",
              "      quickchartButtonEl.classList.remove('colab-df-spinner');\n",
              "      quickchartButtonEl.classList.add('colab-df-quickchart-complete');\n",
              "    }\n",
              "    (() => {\n",
              "      let quickchartButtonEl =\n",
              "        document.querySelector('#df-d57280a0-44b5-4c91-a3e7-1ede2daa2a13 button');\n",
              "      quickchartButtonEl.style.display =\n",
              "        google.colab.kernel.accessAllowed ? 'block' : 'none';\n",
              "    })();\n",
              "  </script>\n",
              "</div>\n",
              "\n",
              "  <div id=\"id_863ebaf9-d5fc-4be1-98e3-9bb2af3473c6\">\n",
              "    <style>\n",
              "      .colab-df-generate {\n",
              "        background-color: #E8F0FE;\n",
              "        border: none;\n",
              "        border-radius: 50%;\n",
              "        cursor: pointer;\n",
              "        display: none;\n",
              "        fill: #1967D2;\n",
              "        height: 32px;\n",
              "        padding: 0 0 0 0;\n",
              "        width: 32px;\n",
              "      }\n",
              "\n",
              "      .colab-df-generate:hover {\n",
              "        background-color: #E2EBFA;\n",
              "        box-shadow: 0px 1px 2px rgba(60, 64, 67, 0.3), 0px 1px 3px 1px rgba(60, 64, 67, 0.15);\n",
              "        fill: #174EA6;\n",
              "      }\n",
              "\n",
              "      [theme=dark] .colab-df-generate {\n",
              "        background-color: #3B4455;\n",
              "        fill: #D2E3FC;\n",
              "      }\n",
              "\n",
              "      [theme=dark] .colab-df-generate:hover {\n",
              "        background-color: #434B5C;\n",
              "        box-shadow: 0px 1px 3px 1px rgba(0, 0, 0, 0.15);\n",
              "        filter: drop-shadow(0px 1px 2px rgba(0, 0, 0, 0.3));\n",
              "        fill: #FFFFFF;\n",
              "      }\n",
              "    </style>\n",
              "    <button class=\"colab-df-generate\" onclick=\"generateWithVariable('housing_data')\"\n",
              "            title=\"Generate code using this dataframe.\"\n",
              "            style=\"display:none;\">\n",
              "\n",
              "  <svg xmlns=\"http://www.w3.org/2000/svg\" height=\"24px\"viewBox=\"0 0 24 24\"\n",
              "       width=\"24px\">\n",
              "    <path d=\"M7,19H8.4L18.45,9,17,7.55,7,17.6ZM5,21V16.75L18.45,3.32a2,2,0,0,1,2.83,0l1.4,1.43a1.91,1.91,0,0,1,.58,1.4,1.91,1.91,0,0,1-.58,1.4L9.25,21ZM18.45,9,17,7.55Zm-12,3A5.31,5.31,0,0,0,4.9,8.1,5.31,5.31,0,0,0,1,6.5,5.31,5.31,0,0,0,4.9,4.9,5.31,5.31,0,0,0,6.5,1,5.31,5.31,0,0,0,8.1,4.9,5.31,5.31,0,0,0,12,6.5,5.46,5.46,0,0,0,6.5,12Z\"/>\n",
              "  </svg>\n",
              "    </button>\n",
              "    <script>\n",
              "      (() => {\n",
              "      const buttonEl =\n",
              "        document.querySelector('#id_863ebaf9-d5fc-4be1-98e3-9bb2af3473c6 button.colab-df-generate');\n",
              "      buttonEl.style.display =\n",
              "        google.colab.kernel.accessAllowed ? 'block' : 'none';\n",
              "\n",
              "      buttonEl.onclick = () => {\n",
              "        google.colab.notebook.generateWithVariable('housing_data');\n",
              "      }\n",
              "      })();\n",
              "    </script>\n",
              "  </div>\n",
              "\n",
              "    </div>\n",
              "  </div>\n"
            ]
          },
          "metadata": {},
          "execution_count": 59
        }
      ]
    },
    {
      "cell_type": "code",
      "source": [
        "housing_data.shape"
      ],
      "metadata": {
        "colab": {
          "base_uri": "https://localhost:8080/"
        },
        "id": "-iRH_-dYJ6Od",
        "outputId": "00dccfc1-737d-47a1-8168-bab8ff35608f"
      },
      "execution_count": null,
      "outputs": [
        {
          "output_type": "execute_result",
          "data": {
            "text/plain": [
              "(39981, 14)"
            ]
          },
          "metadata": {},
          "execution_count": 60
        }
      ]
    },
    {
      "cell_type": "code",
      "source": [
        "housing_data.info()"
      ],
      "metadata": {
        "colab": {
          "base_uri": "https://localhost:8080/"
        },
        "id": "FsoaoCYgKAHp",
        "outputId": "f770b29e-bae1-436f-fc9d-d5e499d91b92"
      },
      "execution_count": null,
      "outputs": [
        {
          "output_type": "stream",
          "name": "stdout",
          "text": [
            "<class 'pandas.core.frame.DataFrame'>\n",
            "RangeIndex: 39981 entries, 0 to 39980\n",
            "Data columns (total 14 columns):\n",
            " #   Column                   Non-Null Count  Dtype  \n",
            "---  ------                   --------------  -----  \n",
            " 0   Zip Code                 39981 non-null  int64  \n",
            " 1   Price                    39981 non-null  float64\n",
            " 2   Beds                     39981 non-null  int64  \n",
            " 3   Baths                    39981 non-null  int64  \n",
            " 4   Living Space             39981 non-null  int64  \n",
            " 5   Address                  39981 non-null  object \n",
            " 6   City                     39981 non-null  object \n",
            " 7   State                    39981 non-null  object \n",
            " 8   Zip Code Population      39981 non-null  int64  \n",
            " 9   Zip Code Density         39981 non-null  float64\n",
            " 10  County                   39981 non-null  object \n",
            " 11  Median Household Income  39979 non-null  float64\n",
            " 12  Latitude                 39981 non-null  float64\n",
            " 13  Longitude                39981 non-null  float64\n",
            "dtypes: float64(5), int64(5), object(4)\n",
            "memory usage: 4.3+ MB\n"
          ]
        }
      ]
    },
    {
      "cell_type": "code",
      "source": [
        "#checking the missing value\n",
        "housing_data.isnull().sum()"
      ],
      "metadata": {
        "colab": {
          "base_uri": "https://localhost:8080/"
        },
        "id": "LW-FK_XVKouX",
        "outputId": "972b3ec4-cef7-4725-f928-cc32296e0444"
      },
      "execution_count": null,
      "outputs": [
        {
          "output_type": "execute_result",
          "data": {
            "text/plain": [
              "Zip Code                   0\n",
              "Price                      0\n",
              "Beds                       0\n",
              "Baths                      0\n",
              "Living Space               0\n",
              "Address                    0\n",
              "City                       0\n",
              "State                      0\n",
              "Zip Code Population        0\n",
              "Zip Code Density           0\n",
              "County                     0\n",
              "Median Household Income    2\n",
              "Latitude                   0\n",
              "Longitude                  0\n",
              "dtype: int64"
            ]
          },
          "metadata": {},
          "execution_count": 62
        }
      ]
    },
    {
      "cell_type": "code",
      "source": [
        "housing_data1=housing_data.dropna()"
      ],
      "metadata": {
        "id": "73gKvbPVMODg"
      },
      "execution_count": null,
      "outputs": []
    },
    {
      "cell_type": "code",
      "source": [
        "housing_data1.isnull().sum()"
      ],
      "metadata": {
        "colab": {
          "base_uri": "https://localhost:8080/"
        },
        "id": "qX_8FyTOMuzr",
        "outputId": "f6b50b06-ff47-42a6-f831-79dcee6b39cc"
      },
      "execution_count": null,
      "outputs": [
        {
          "output_type": "execute_result",
          "data": {
            "text/plain": [
              "Zip Code                   0\n",
              "Price                      0\n",
              "Beds                       0\n",
              "Baths                      0\n",
              "Living Space               0\n",
              "Address                    0\n",
              "City                       0\n",
              "State                      0\n",
              "Zip Code Population        0\n",
              "Zip Code Density           0\n",
              "County                     0\n",
              "Median Household Income    0\n",
              "Latitude                   0\n",
              "Longitude                  0\n",
              "dtype: int64"
            ]
          },
          "metadata": {},
          "execution_count": 64
        }
      ]
    },
    {
      "cell_type": "code",
      "source": [
        "housing_data1.columns"
      ],
      "metadata": {
        "colab": {
          "base_uri": "https://localhost:8080/"
        },
        "id": "leTc_b4SNDko",
        "outputId": "2c100012-a313-4508-ce04-435972fc5fe0"
      },
      "execution_count": null,
      "outputs": [
        {
          "output_type": "execute_result",
          "data": {
            "text/plain": [
              "Index(['Zip Code', 'Price', 'Beds', 'Baths', 'Living Space', 'Address', 'City',\n",
              "       'State', 'Zip Code Population', 'Zip Code Density', 'County',\n",
              "       'Median Household Income', 'Latitude', 'Longitude'],\n",
              "      dtype='object')"
            ]
          },
          "metadata": {},
          "execution_count": 65
        }
      ]
    },
    {
      "cell_type": "code",
      "source": [
        "housing_data1.shape"
      ],
      "metadata": {
        "colab": {
          "base_uri": "https://localhost:8080/"
        },
        "id": "HKoFBw3lNTkk",
        "outputId": "42cca4f1-8ff2-47a2-b646-f0541114fe9a"
      },
      "execution_count": null,
      "outputs": [
        {
          "output_type": "execute_result",
          "data": {
            "text/plain": [
              "(39979, 14)"
            ]
          },
          "metadata": {},
          "execution_count": 66
        }
      ]
    },
    {
      "cell_type": "code",
      "source": [
        "housing_data1['County'].value_counts()"
      ],
      "metadata": {
        "colab": {
          "base_uri": "https://localhost:8080/"
        },
        "id": "yxmMC7dCNeHc",
        "outputId": "3a1e3c92-7f7d-48e1-e485-97b166242b2a"
      },
      "execution_count": null,
      "outputs": [
        {
          "output_type": "execute_result",
          "data": {
            "text/plain": [
              "Maricopa       1782\n",
              "El Paso        1687\n",
              "Tarrant        1591\n",
              "Los Angeles    1353\n",
              "Jefferson       977\n",
              "               ... \n",
              "Bullitt           1\n",
              "Nassau            1\n",
              "Union             1\n",
              "Arapahoe          1\n",
              "Atascosa          1\n",
              "Name: County, Length: 88, dtype: int64"
            ]
          },
          "metadata": {},
          "execution_count": 67
        }
      ]
    },
    {
      "cell_type": "code",
      "source": [
        "housing_data1['State'].value_counts()"
      ],
      "metadata": {
        "colab": {
          "base_uri": "https://localhost:8080/"
        },
        "id": "esDXWVSYOQMe",
        "outputId": "3fba2a0d-8982-4b98-edc3-33f70b8c4f12"
      },
      "execution_count": null,
      "outputs": [
        {
          "output_type": "execute_result",
          "data": {
            "text/plain": [
              "California              6056\n",
              "Texas                   5894\n",
              "Arizona                 2640\n",
              "North Carolina          1777\n",
              "Colorado                1772\n",
              "Tennessee               1701\n",
              "Oklahoma                1692\n",
              "Florida                 1618\n",
              "Kansas                   929\n",
              "Nevada                   895\n",
              "Kentucky                 885\n",
              "Virginia                 885\n",
              "New Mexico               883\n",
              "Nebraska                 870\n",
              "Indiana                  866\n",
              "Washington               860\n",
              "Oregon                   853\n",
              "District of Columbia     848\n",
              "Ohio                     832\n",
              "Minnesota                807\n",
              "Louisiana                804\n",
              "Michigan                 791\n",
              "Pennsylvania             764\n",
              "Georgia                  744\n",
              "Maryland                 738\n",
              "Missouri                 723\n",
              "Wisconsin                675\n",
              "New York                 589\n",
              "Illinois                 588\n",
              "Name: State, dtype: int64"
            ]
          },
          "metadata": {},
          "execution_count": 68
        }
      ]
    },
    {
      "cell_type": "code",
      "source": [
        "x=housing_data1.drop( columns=['Address','Zip Code','City','County','State','Price'], axis=1)\n",
        "y=housing_data1['Price']"
      ],
      "metadata": {
        "id": "-uTy4wjSFB1W"
      },
      "execution_count": null,
      "outputs": []
    },
    {
      "cell_type": "code",
      "source": [
        "#price\n",
        "sns.set()\n",
        "plt.figure(figsize=(10,6))\n",
        "sns.histplot(housing_data1['Price'])\n",
        "plt.title('Price')\n",
        "plt.show()\n"
      ],
      "metadata": {
        "colab": {
          "base_uri": "https://localhost:8080/",
          "height": 573
        },
        "id": "kagfJL4Bmoy3",
        "outputId": "b92fc880-a6e1-409d-b717-96e47128159d"
      },
      "execution_count": null,
      "outputs": [
        {
          "output_type": "display_data",
          "data": {
            "text/plain": [
              "<Figure size 1000x600 with 1 Axes>"
            ],
            "image/png": "[encoded data removed]"
          },
          "metadata": {}
        }
      ]
    },
    {
      "cell_type": "code",
      "source": [
        "#living space\n",
        "plt.figure(figsize=(10,6))\n",
        "sns.histplot(housing_data1['Living Space'])\n",
        "plt.title('Living Space')\n",
        "plt.show()"
      ],
      "metadata": {
        "colab": {
          "base_uri": "https://localhost:8080/",
          "height": 573
        },
        "id": "uPcnMkdToE5W",
        "outputId": "4d936aba-a970-410d-aa43-a92b8ef3afcb"
      },
      "execution_count": null,
      "outputs": [
        {
          "output_type": "display_data",
          "data": {
            "text/plain": [
              "<Figure size 1000x600 with 1 Axes>"
            ],
            "image/png": "[encoded data removed]"
          },
          "metadata": {}
        }
      ]
    },
    {
      "cell_type": "code",
      "source": [
        "x_train,x_test,y_train,y_test=train_test_split(x,y,test_size=0.2,random_state=2)"
      ],
      "metadata": {
        "id": "6gpr1PiUp6hF"
      },
      "execution_count": null,
      "outputs": []
    },
    {
      "cell_type": "code",
      "source": [
        "print(x.shape,x_train.shape,x_test.shape)\n"
      ],
      "metadata": {
        "colab": {
          "base_uri": "https://localhost:8080/"
        },
        "id": "c2pojY0wqr6k",
        "outputId": "816dbdd9-1ccf-46ed-a79f-6aced51e37a6"
      },
      "execution_count": null,
      "outputs": [
        {
          "output_type": "stream",
          "name": "stdout",
          "text": [
            "(39979, 8) (31983, 8) (7996, 8)\n"
          ]
        }
      ]
    },
    {
      "cell_type": "code",
      "source": [
        "print(x_train)"
      ],
      "metadata": {
        "colab": {
          "base_uri": "https://localhost:8080/"
        },
        "id": "cB4tY6MQq1GN",
        "outputId": "0863abca-c3d2-498f-cc03-28ae297e00c4"
      },
      "execution_count": null,
      "outputs": [
        {
          "output_type": "stream",
          "name": "stdout",
          "text": [
            "       Beds  Baths  Living Space  Zip Code Population  Zip Code Density  \\\n",
            "18075    16      8          4100                35886            2210.2   \n",
            "10544     4      3          2200                41448             296.5   \n",
            "23118     1      1           680                44056            3970.9   \n",
            "4068      4      5          4825                45499             718.1   \n",
            "14837     4      2          1350               107487            5888.0   \n",
            "...     ...    ...           ...                  ...               ...   \n",
            "31021     4      2          2668                66118             442.9   \n",
            "30282     4      3          2889                18217             145.5   \n",
            "6637      4      3          2489                35668            1680.8   \n",
            "35345     2      3          1678                13810           10568.6   \n",
            "23720     4      2          1267                54438             513.8   \n",
            "\n",
            "       Median Household Income  Latitude  Longitude  \n",
            "18075                  67620.0  30.00835  -90.06467  \n",
            "10544                 103618.0  38.16319  -85.51613  \n",
            "23118                 114008.0  29.74522  -95.48885  \n",
            "4068                   97207.0  35.73991  -78.71833  \n",
            "14837                  71301.0  41.77540  -87.71239  \n",
            "...                        ...       ...        ...  \n",
            "31021                  98519.0  35.14097 -106.76522  \n",
            "30282                 138545.0  32.28129 -110.72604  \n",
            "6637                   68022.0  30.33276  -81.58428  \n",
            "35345                 347725.0  37.79239 -122.39707  \n",
            "23720                  60782.0  29.31102  -98.38675  \n",
            "\n",
            "[31983 rows x 8 columns]\n"
          ]
        }
      ]
    },
    {
      "cell_type": "code",
      "source": [
        "print(y_train)"
      ],
      "metadata": {
        "colab": {
          "base_uri": "https://localhost:8080/"
        },
        "id": "4XfctPvqrHhf",
        "outputId": "2170198f-f67f-47a4-b675-d3bc7e41fe60"
      },
      "execution_count": null,
      "outputs": [
        {
          "output_type": "stream",
          "name": "stdout",
          "text": [
            "18075     375000.0\n",
            "10544     350000.0\n",
            "23118     112500.0\n",
            "4068      950000.0\n",
            "14837     320500.0\n",
            "           ...    \n",
            "31021     459000.0\n",
            "30282     875000.0\n",
            "6637      340900.0\n",
            "35345    2995000.0\n",
            "23720     215000.0\n",
            "Name: Price, Length: 31983, dtype: float64\n"
          ]
        }
      ]
    },
    {
      "cell_type": "markdown",
      "source": [
        "modelling"
      ],
      "metadata": {
        "id": "j56PnVHPrN6f"
      }
    },
    {
      "cell_type": "code",
      "source": [
        "regressor=LinearRegression()\n",
        "regressor.fit(x_train,y_train)#training algorithm"
      ],
      "metadata": {
        "colab": {
          "base_uri": "https://localhost:8080/",
          "height": 74
        },
        "id": "C9GOC9zpsms-",
        "outputId": "8ec56159-1ae9-4730-f249-f56cc046912e"
      },
      "execution_count": null,
      "outputs": [
        {
          "output_type": "execute_result",
          "data": {
            "text/plain": [
              "LinearRegression()"
            ],
            "text/html": [
              "<style>#sk-container-id-3 {color: black;background-color: white;}#sk-container-id-3 pre{padding: 0;}#sk-container-id-3 div.sk-toggleable {background-color: white;}#sk-container-id-3 label.sk-toggleable__label {cursor: pointer;display: block;width: 100%;margin-bottom: 0;padding: 0.3em;box-sizing: border-box;text-align: center;}#sk-container-id-3 label.sk-toggleable__label-arrow:before {content: \"▸\";float: left;margin-right: 0.25em;color: #696969;}#sk-container-id-3 label.sk-toggleable__label-arrow:hover:before {color: black;}#sk-container-id-3 div.sk-estimator:hover label.sk-toggleable__label-arrow:before {color: black;}#sk-container-id-3 div.sk-toggleable__content {max-height: 0;max-width: 0;overflow: hidden;text-align: left;background-color: #f0f8ff;}#sk-container-id-3 div.sk-toggleable__content pre {margin: 0.2em;color: black;border-radius: 0.25em;background-color: #f0f8ff;}#sk-container-id-3 input.sk-toggleable__control:checked~div.sk-toggleable__content {max-height: 200px;max-width: 100%;overflow: auto;}#sk-container-id-3 input.sk-toggleable__control:checked~label.sk-toggleable__label-arrow:before {content: \"▾\";}#sk-container-id-3 div.sk-estimator input.sk-toggleable__control:checked~label.sk-toggleable__label {background-color: #d4ebff;}#sk-container-id-3 div.sk-label input.sk-toggleable__control:checked~label.sk-toggleable__label {background-color: #d4ebff;}#sk-container-id-3 input.sk-hidden--visually {border: 0;clip: rect(1px 1px 1px 1px);clip: rect(1px, 1px, 1px, 1px);height: 1px;margin: -1px;overflow: hidden;padding: 0;position: absolute;width: 1px;}#sk-container-id-3 div.sk-estimator {font-family: monospace;background-color: #f0f8ff;border: 1px dotted black;border-radius: 0.25em;box-sizing: border-box;margin-bottom: 0.5em;}#sk-container-id-3 div.sk-estimator:hover {background-color: #d4ebff;}#sk-container-id-3 div.sk-parallel-item::after {content: \"\";width: 100%;border-bottom: 1px solid gray;flex-grow: 1;}#sk-container-id-3 div.sk-label:hover label.sk-toggleable__label {background-color: #d4ebff;}#sk-container-id-3 div.sk-serial::before {content: \"\";position: absolute;border-left: 1px solid gray;box-sizing: border-box;top: 0;bottom: 0;left: 50%;z-index: 0;}#sk-container-id-3 div.sk-serial {display: flex;flex-direction: column;align-items: center;background-color: white;padding-right: 0.2em;padding-left: 0.2em;position: relative;}#sk-container-id-3 div.sk-item {position: relative;z-index: 1;}#sk-container-id-3 div.sk-parallel {display: flex;align-items: stretch;justify-content: center;background-color: white;position: relative;}#sk-container-id-3 div.sk-item::before, #sk-container-id-3 div.sk-parallel-item::before {content: \"\";position: absolute;border-left: 1px solid gray;box-sizing: border-box;top: 0;bottom: 0;left: 50%;z-index: -1;}#sk-container-id-3 div.sk-parallel-item {display: flex;flex-direction: column;z-index: 1;position: relative;background-color: white;}#sk-container-id-3 div.sk-parallel-item:first-child::after {align-self: flex-end;width: 50%;}#sk-container-id-3 div.sk-parallel-item:last-child::after {align-self: flex-start;width: 50%;}#sk-container-id-3 div.sk-parallel-item:only-child::after {width: 0;}#sk-container-id-3 div.sk-dashed-wrapped {border: 1px dashed gray;margin: 0 0.4em 0.5em 0.4em;box-sizing: border-box;padding-bottom: 0.4em;background-color: white;}#sk-container-id-3 div.sk-label label {font-family: monospace;font-weight: bold;display: inline-block;line-height: 1.2em;}#sk-container-id-3 div.sk-label-container {text-align: center;}#sk-container-id-3 div.sk-container {/* jupyter's `normalize.less` sets `[hidden] { display: none; }` but bootstrap.min.css set `[hidden] { display: none !important; }` so we also need the `!important` here to be able to override the default hidden behavior on the sphinx rendered scikit-learn.org. See: https://github.com/scikit-learn/scikit-learn/issues/21755 */display: inline-block !important;position: relative;}#sk-container-id-3 div.sk-text-repr-fallback {display: none;}</style><div id=\"sk-container-id-3\" class=\"sk-top-container\"><div class=\"sk-text-repr-fallback\"><pre>LinearRegression()</pre><b>In a Jupyter environment, please rerun this cell to show the HTML representation or trust the notebook. <br />On GitHub, the HTML representation is unable to render, please try loading this page with nbviewer.org.</b></div><div class=\"sk-container\" hidden><div class=\"sk-item\"><div class=\"sk-estimator sk-toggleable\"><input class=\"sk-toggleable__control sk-hidden--visually\" id=\"sk-estimator-id-3\" type=\"checkbox\" checked><label for=\"sk-estimator-id-3\" class=\"sk-toggleable__label sk-toggleable__label-arrow\">LinearRegression</label><div class=\"sk-toggleable__content\"><pre>LinearRegression()</pre></div></div></div></div></div>"
            ]
          },
          "metadata": {},
          "execution_count": 91
        }
      ]
    },
    {
      "cell_type": "markdown",
      "source": [
        "model evaluation"
      ],
      "metadata": {
        "id": "p5wO4p3xs-ff"
      }
    },
    {
      "cell_type": "code",
      "source": [
        "#prediction on training data\n",
        "training_data_prediction=regressor.predict(x_train)"
      ],
      "metadata": {
        "id": "ivqBInBctA4F"
      },
      "execution_count": null,
      "outputs": []
    },
    {
      "cell_type": "code",
      "source": [
        "#R squared value\n",
        "r2_train=metrics.r2_score(y_train, training_data_prediction)\n",
        "print('R squared value:',r2_train)"
      ],
      "metadata": {
        "colab": {
          "base_uri": "https://localhost:8080/"
        },
        "id": "fGhN-TgHtPWo",
        "outputId": "9ee49d6d-250e-4b49-dd3a-4edf872daee9"
      },
      "execution_count": null,
      "outputs": [
        {
          "output_type": "stream",
          "name": "stdout",
          "text": [
            "R squared value: 0.439106253960153\n"
          ]
        }
      ]
    },
    {
      "cell_type": "code",
      "source": [
        "x_test.to_csv('housing_datayuh.csv',index=False)\n",
        "from google.colab import files\n",
        "files.do.csv download('housing_datayuh')"
      ],
      "metadata": {
        "id": "TWbAu_h0tjh0"
      },
      "execution_count": null,
      "outputs": []
    },
    {
      "cell_type": "code",
      "source": [
        "input_data=(3,4,2300,49854,2196.2,141341.0,30.24298,-97.76537)\n",
        "#changing the input data into numpy array\n",
        "input_data_as_numpy_array=np.array(input_data)\n",
        "#reshape the array\n",
        "input_data_reshaped = input_data_as_numpy_array.reshape(1,-1)\n",
        "\n",
        "prediction = regressor.predict(input_data_reshaped)\n",
        "print(prediction[0])\n",
        "print('Price',prediction[0])"
      ],
      "metadata": {
        "colab": {
          "base_uri": "https://localhost:8080/"
        },
        "id": "wTDlP2w0uuJy",
        "outputId": "5d31bddc-64f7-41d5-da01-6e95a7a1a6f4"
      },
      "execution_count": null,
      "outputs": [
        {
          "output_type": "stream",
          "name": "stdout",
          "text": [
            "1085184.4987435369\n",
            "Price 1085184.4987435369\n"
          ]
        },
        {
          "output_type": "stream",
          "name": "stderr",
          "text": [
            "/usr/local/lib/python3.10/dist-packages/sklearn/base.py:439: UserWarning: X does not have valid feature names, but LinearRegression was fitted with feature names\n",
            "  warnings.warn(\n"
          ]
        }
      ]
    }
  ]
}